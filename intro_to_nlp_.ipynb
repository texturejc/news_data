{
 "cells": [
  {
   "cell_type": "code",
   "execution_count": 19,
   "id": "1415d275",
   "metadata": {},
   "outputs": [],
   "source": [
    "import pandas as pd\n",
    "news = pd.read_pickle('small_news_data.pkl')"
   ]
  },
  {
   "cell_type": "code",
   "execution_count": null,
   "id": "d732bd18",
   "metadata": {},
   "outputs": [],
   "source": [
    "!pip install pronounceable"
   ]
  },
  {
   "cell_type": "code",
   "execution_count": 9,
   "id": "6acf2747",
   "metadata": {},
   "outputs": [],
   "source": [
    "from pronounceable import PronounceableWord, generate_word, Pronounceablity, Complexity"
   ]
  },
  {
   "cell_type": "code",
   "execution_count": 12,
   "id": "06f988b8",
   "metadata": {},
   "outputs": [],
   "source": [
    "words = []\n",
    "\n",
    "for i in range(1000):\n",
    "    words.append(generate_word())"
   ]
  },
  {
   "cell_type": "code",
   "execution_count": 13,
   "id": "cdcf306c",
   "metadata": {},
   "outputs": [
    {
     "data": {
      "text/plain": [
       "1000"
      ]
     },
     "execution_count": 13,
     "metadata": {},
     "output_type": "execute_result"
    }
   ],
   "source": [
    "# 1. Create a list that records the number of letters in each word\n",
    "# 2. Create a python dictionary with the words as keys and the number of letters in the words as values.\n",
    "# 3. Create separate lists a list containing the words beginning with 'a', 'e', 'q', and 'x'.\n",
    "# 4. Create a list of the words containing 't' and 'k'.\n",
    "# 5. Create a list of the words containing 't' or 'k'.\n",
    "# 6. Create a list of the words containing 't' and 'k'."
   ]
  },
  {
   "cell_type": "code",
   "execution_count": null,
   "id": "7b855ea1",
   "metadata": {},
   "outputs": [],
   "source": [
    "# 1. Get 560th row of data from this dataset.\n",
    "# 2. Create a dataframe that contains only the the 'source' and 'valence' columns.\n",
    "# 3. Find the headline that has the max value for 'arousal'.\n",
    "# 4. Find the headline that has the min value for 'valence'.\n",
    "# 5. Create a new column that is the product of 'valence' and 'dominance'.\n",
    "# 6. Using the dataframe you created for source and valence, create a dataframe that gives the average valence for each source title\n"
   ]
  }
 ],
 "metadata": {
  "kernelspec": {
   "display_name": "Python 3 (ipykernel)",
   "language": "python",
   "name": "python3"
  },
  "language_info": {
   "codemirror_mode": {
    "name": "ipython",
    "version": 3
   },
   "file_extension": ".py",
   "mimetype": "text/x-python",
   "name": "python",
   "nbconvert_exporter": "python",
   "pygments_lexer": "ipython3",
   "version": "3.10.8"
  }
 },
 "nbformat": 4,
 "nbformat_minor": 5
}
