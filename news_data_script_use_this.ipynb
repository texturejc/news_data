{
 "cells": [
  {
   "cell_type": "code",
   "execution_count": null,
   "id": "1644885e",
   "metadata": {},
   "outputs": [],
   "source": [
    "\"\"\"\n",
    "Created on Sat Oct  1 16:55:54 2022\n",
    "\n",
    "@author: jamescarney\n",
    "\"\"\""
   ]
  },
  {
   "cell_type": "code",
   "execution_count": null,
   "id": "228b5e96",
   "metadata": {},
   "outputs": [],
   "source": [
    "import pandas as pd\n",
    "import seaborn as sns\n",
    "sns.set()\n",
    "import matplotlib.pyplot as plt\n",
    "import jupytext"
   ]
  },
  {
   "cell_type": "code",
   "execution_count": null,
   "id": "f32610fd",
   "metadata": {},
   "outputs": [],
   "source": [
    "news = pd.read_pickle('small_news_data.pkl')\n",
    "day = pd.read_pickle('processed_news_grouped_by_day.pkl')"
   ]
  },
  {
   "cell_type": "code",
   "execution_count": null,
   "id": "fcf80e68",
   "metadata": {},
   "outputs": [],
   "source": [
    "news = news[['date', 'headline', 'source', 'section', 'valence', 'arousal', 'dominance', 'concreteness', 'semantic_size']]"
   ]
  },
  {
   "cell_type": "code",
   "execution_count": null,
   "id": "b9b1e90e",
   "metadata": {},
   "outputs": [],
   "source": [
    "news = news[news['section'].str.len() < 10]"
   ]
  },
  {
   "cell_type": "code",
   "execution_count": null,
   "id": "199f4d4a",
   "metadata": {},
   "outputs": [],
   "source": [
    "# Get top n entries"
   ]
  },
  {
   "cell_type": "code",
   "execution_count": null,
   "id": "5b08b286",
   "metadata": {},
   "outputs": [],
   "source": [
    "# Get the number of newspaper titles"
   ]
  },
  {
   "cell_type": "code",
   "execution_count": null,
   "id": "f987d354",
   "metadata": {},
   "outputs": [],
   "source": [
    "# Map newspaper titles to actual written form"
   ]
  },
  {
   "cell_type": "code",
   "execution_count": null,
   "id": "d923dadc",
   "metadata": {},
   "outputs": [],
   "source": [
    "news['source'] = news['source'].replace(['inews',\n",
    " 'daily_mail',\n",
    " 'express',\n",
    " 'guardian',\n",
    " 'evening_standard',\n",
    " 'independent'], ['iNews',\n",
    "  'Daily Mail',\n",
    "  'Express',\n",
    "  'Guardian',\n",
    "  'Evening Standard',\n",
    "  'Independent'])"
   ]
  },
  {
   "cell_type": "code",
   "execution_count": null,
   "id": "b50e632a",
   "metadata": {},
   "outputs": [],
   "source": [
    "# Create variable containing the newspaper sections in the data"
   ]
  },
  {
   "cell_type": "code",
   "execution_count": null,
   "id": "a5f76219",
   "metadata": {},
   "outputs": [],
   "source": [
    "# Create a dataframe called express that just contains entries from the Express"
   ]
  },
  {
   "cell_type": "code",
   "execution_count": null,
   "id": "4eec8a50",
   "metadata": {},
   "outputs": [],
   "source": [
    "# Sort the new express dataframe by valence, with largest first"
   ]
  },
  {
   "cell_type": "code",
   "execution_count": null,
   "id": "6db61da9",
   "metadata": {},
   "outputs": [],
   "source": [
    "# Create a horizontal barplot that represents the distribution of valence across the sections of the Express"
   ]
  },
  {
   "cell_type": "code",
   "execution_count": null,
   "id": "6970bc63",
   "metadata": {},
   "outputs": [],
   "source": [
    "# Find the headlines with the highest, median, and lowest value in the express dataset"
   ]
  },
  {
   "cell_type": "code",
   "execution_count": null,
   "id": "ff37a13a",
   "metadata": {},
   "outputs": [],
   "source": [
    "# Create a column in the news dataframe that records whether or not a title mentions immigration"
   ]
  },
  {
   "cell_type": "code",
   "execution_count": null,
   "id": "cf60deb9",
   "metadata": {
    "lines_to_next_cell": 0
   },
   "outputs": [],
   "source": [
    "immi = []\n",
    "\n",
    "for i in news['headline']:\n",
    "    if 'immig ' in i.lower():\n",
    "        immi.append('mentions immigration')\n",
    "    else:\n",
    "        immi.append(\"doesn't mention immigration\")\n",
    "        \n",
    "news['immigration_status'] = immi"
   ]
  },
  {
   "cell_type": "code",
   "execution_count": null,
   "id": "370264b7",
   "metadata": {},
   "outputs": [],
   "source": []
  },
  {
   "cell_type": "code",
   "execution_count": null,
   "id": "d4549cd6",
   "metadata": {},
   "outputs": [],
   "source": []
  },
  {
   "cell_type": "code",
   "execution_count": null,
   "id": "ea55c7a6",
   "metadata": {},
   "outputs": [],
   "source": []
  },
  {
   "cell_type": "code",
   "execution_count": null,
   "id": "9ec74dca",
   "metadata": {},
   "outputs": [],
   "source": []
  },
  {
   "cell_type": "code",
   "execution_count": null,
   "id": "deabb29d",
   "metadata": {},
   "outputs": [],
   "source": []
  },
  {
   "cell_type": "code",
   "execution_count": null,
   "id": "1d1e6f2d",
   "metadata": {},
   "outputs": [],
   "source": []
  },
  {
   "cell_type": "code",
   "execution_count": null,
   "id": "e5b17d43",
   "metadata": {},
   "outputs": [],
   "source": []
  },
  {
   "cell_type": "code",
   "execution_count": null,
   "id": "c264c1db",
   "metadata": {},
   "outputs": [],
   "source": []
  },
  {
   "cell_type": "code",
   "execution_count": null,
   "id": "1771780d",
   "metadata": {},
   "outputs": [],
   "source": []
  },
  {
   "cell_type": "code",
   "execution_count": null,
   "id": "fe033548",
   "metadata": {},
   "outputs": [],
   "source": []
  },
  {
   "cell_type": "code",
   "execution_count": null,
   "id": "9ef68326",
   "metadata": {},
   "outputs": [],
   "source": []
  },
  {
   "cell_type": "code",
   "execution_count": null,
   "id": "453fd498",
   "metadata": {},
   "outputs": [],
   "source": []
  },
  {
   "cell_type": "code",
   "execution_count": null,
   "id": "b3fd0875",
   "metadata": {},
   "outputs": [],
   "source": []
  },
  {
   "cell_type": "code",
   "execution_count": null,
   "id": "e306bc5b",
   "metadata": {},
   "outputs": [],
   "source": []
  },
  {
   "cell_type": "code",
   "execution_count": null,
   "id": "65e12098",
   "metadata": {},
   "outputs": [],
   "source": []
  },
  {
   "cell_type": "code",
   "execution_count": null,
   "id": "e3441433",
   "metadata": {},
   "outputs": [],
   "source": []
  },
  {
   "cell_type": "code",
   "execution_count": null,
   "id": "67f600a5",
   "metadata": {},
   "outputs": [],
   "source": []
  },
  {
   "cell_type": "code",
   "execution_count": null,
   "id": "2c70719b",
   "metadata": {},
   "outputs": [],
   "source": []
  },
  {
   "cell_type": "code",
   "execution_count": null,
   "id": "c39a9f9b",
   "metadata": {},
   "outputs": [],
   "source": []
  },
  {
   "cell_type": "code",
   "execution_count": null,
   "id": "d6b33f54",
   "metadata": {},
   "outputs": [],
   "source": []
  }
 ],
 "metadata": {
  "jupytext": {
   "cell_metadata_filter": "-all",
   "encoding": "# -*- coding: utf-8 -*-",
   "executable": "/usr/bin/env python3",
   "notebook_metadata_filter": "-all",
   "text_representation": {
    "extension": ".py",
    "format_name": "light"
   }
  },
  "kernelspec": {
   "display_name": "Python 3 (ipykernel)",
   "language": "python",
   "name": "python3"
  }
 },
 "nbformat": 4,
 "nbformat_minor": 5
}
